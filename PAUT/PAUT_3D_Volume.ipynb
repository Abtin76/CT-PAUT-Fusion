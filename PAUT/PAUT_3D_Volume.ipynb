{
 "cells": [
  {
   "cell_type": "code",
   "execution_count": 8,
   "id": "cc63d394-21b8-441a-9df6-6aab63bef4fe",
   "metadata": {},
   "outputs": [],
   "source": [
    "import SimpleITK as sitk\n",
    "import os\n",
    "import re\n",
    "\n",
    "def natural_keys(text):\n",
    "    \"\"\"\n",
    "    Helper function to sort strings containing numbers in natural order.\n",
    "    e.g., \"image_2.tif\" comes before \"image_10.tif\"\n",
    "    \"\"\"\n",
    "    return [int(c) if c.isdigit() else c for c in re.split('(\\d+)', text)]\n",
    "\n",
    "def load_images(directory):\n",
    "    \"\"\"Load and naturally sort all TIFF images from a directory.\"\"\"\n",
    "    images = []\n",
    "    # List only TIFF files (case-insensitive)\n",
    "    tiff_files = [f for f in os.listdir(directory) if f.lower().endswith('.tif')]\n",
    "    # Sort files in natural order\n",
    "    tiff_files.sort(key=natural_keys)\n",
    "    \n",
    "    for file_name in tiff_files:\n",
    "        path = os.path.join(directory, file_name)\n",
    "        # Read the image using SimpleITK\n",
    "        image = sitk.ReadImage(path, sitk.sitkFloat32)\n",
    "        images.append(image)\n",
    "    \n",
    "    return images\n",
    "\n",
    "directory = '/Users/abtinsalehi/Desktop/SAFT/SAFT V2'\n",
    "images = load_images(directory)\n"
   ]
  },
  {
   "cell_type": "code",
   "execution_count": 10,
   "id": "d5dc3273-c9c5-41fd-9ee7-91c8654811e1",
   "metadata": {},
   "outputs": [],
   "source": [
    "def create_3d_volume(images):\n",
    "    \"\"\"Create a 3D volume from a list of 2D images.\"\"\"\n",
    "    volume = sitk.JoinSeries(images)\n",
    "    return volume\n",
    "\n",
    "volume = create_3d_volume(images)"
   ]
  },
  {
   "cell_type": "code",
   "execution_count": 12,
   "id": "50fc5070-9638-49db-a9bf-d4014d88b2c5",
   "metadata": {},
   "outputs": [
    {
     "data": {
      "image/png": "[encoded data removed]",
      "text/plain": [
       "<Figure size 1500x500 with 3 Axes>"
      ]
     },
     "metadata": {},
     "output_type": "display_data"
    }
   ],
   "source": [
    "import SimpleITK as sitk\n",
    "import matplotlib.pyplot as plt\n",
    "\n",
    "def visualize_slices(volume):\n",
    "    \"\"\"Visualize axial, coronal, and sagittal slices from the middle of the volume.\"\"\"\n",
    "    size = volume.GetSize()\n",
    "    # Get the middle index of each dimension\n",
    "    axial_index = size[2] // 2\n",
    "    coronal_index = size[1] // 2\n",
    "    sagittal_index = size[0] // 2\n",
    "\n",
    "    # Extract the slices using SimpleITK\n",
    "    axial_slice = sitk.GetArrayFromImage(volume[:,:,axial_index])\n",
    "    coronal_slice = sitk.GetArrayFromImage(volume[:,coronal_index,:])\n",
    "    sagittal_slice = sitk.GetArrayFromImage(volume[sagittal_index,:,:])\n",
    "\n",
    "    # Plot the slices\n",
    "    fig, axs = plt.subplots(1, 3, figsize=(15, 5))\n",
    "    axs[0].imshow(axial_slice, cmap='gray')\n",
    "    axs[0].set_title('Axial Slice')\n",
    "    axs[1].imshow(coronal_slice, cmap='gray')\n",
    "    axs[1].set_title('Coronal Slice')\n",
    "    axs[2].imshow(sagittal_slice, cmap='gray')\n",
    "    axs[2].set_title('Sagittal Slice')\n",
    "\n",
    "    for ax in axs:\n",
    "        ax.axis('off')  # Hide axes to improve clarity\n",
    "\n",
    "    plt.show()\n",
    "\n",
    "# Assume 'volume' is the SimpleITK image object you created\n",
    "visualize_slices(volume)\n"
   ]
  },
  {
   "cell_type": "code",
   "execution_count": 14,
   "id": "29efda68-b829-4e15-839f-1de6b3c283f3",
   "metadata": {},
   "outputs": [
    {
     "name": "stdout",
     "output_type": "stream",
     "text": [
      "Volume Size: (1700, 183, 49)\n",
      "Volume Spacing: (1.0, 1.0, 1.0)\n",
      "Volume Origin: (0.0, 0.0, 0.0)\n"
     ]
    }
   ],
   "source": [
    "def print_volume_info(volume):\n",
    "    \"\"\"Print the size, spacing, and origin of the volume.\"\"\"\n",
    "    print(\"Volume Size:\", volume.GetSize())\n",
    "    print(\"Volume Spacing:\", volume.GetSpacing())\n",
    "    print(\"Volume Origin:\", volume.GetOrigin())\n",
    "\n",
    "print_volume_info(volume)"
   ]
  },
  {
   "cell_type": "code",
   "execution_count": 36,
   "id": "f22114aa-acfb-4029-8fdb-d1b629552c5b",
   "metadata": {},
   "outputs": [
    {
     "name": "stdout",
     "output_type": "stream",
     "text": [
      "(1700, 183, 49)\n",
      "(183, 1700, 49)\n"
     ]
    }
   ],
   "source": [
    "import numpy as np\n",
    "volume_array = sitk.GetArrayFromImage(volume)\n",
    "print(volume_array.shape)\n",
    "volume_transposed = np.transpose(volume_array,(2,0,1))\n",
    "volume = sitk.GetImageFromArray(volume_transposed)\n",
    "print(volume.GetSize())"
   ]
  },
  {
   "cell_type": "code",
   "execution_count": 38,
   "id": "f79fb59e",
   "metadata": {},
   "outputs": [],
   "source": [
    "import SimpleITK as sitk\n",
    "\n",
    "def save_volume(volume, filename):\n",
    "    \"\"\"Save the volume to a NIfTI file.\"\"\"\n",
    "    sitk.WriteImage(volume, filename)\n",
    "\n",
    "#Assuming 'new_volume' is your resampled SimpleITK image object\n",
    "save_volume(volume, 'SAFT_NEW_Version.nii')\n"
   ]
  }
 ],
 "metadata": {
  "kernelspec": {
   "display_name": "Python [conda env:base] *",
   "language": "python",
   "name": "conda-base-py"
  },
  "language_info": {
   "codemirror_mode": {
    "name": "ipython",
    "version": 3
   },
   "file_extension": ".py",
   "mimetype": "text/x-python",
   "name": "python",
   "nbconvert_exporter": "python",
   "pygments_lexer": "ipython3",
   "version": "3.11.11"
  }
 },
 "nbformat": 4,
 "nbformat_minor": 5
}
